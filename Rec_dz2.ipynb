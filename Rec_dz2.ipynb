{
 "cells": [
  {
   "cell_type": "code",
   "execution_count": 2,
   "metadata": {},
   "outputs": [],
   "source": [
    "from surprise import KNNWithMeans, KNNBasic, KNNWithZScore, KNNBaseline\n",
    "from surprise import Dataset\n",
    "from surprise import accuracy\n",
    "from surprise import Reader\n",
    "from surprise.model_selection import train_test_split\n",
    "from surprise.model_selection import cross_validate\n",
    "\n",
    "import pandas as pd"
   ]
  },
  {
   "cell_type": "code",
   "execution_count": 3,
   "metadata": {},
   "outputs": [],
   "source": [
    "data =Dataset.load_builtin('ml-1m', prompt=False)"
   ]
  },
  {
   "cell_type": "code",
   "execution_count": 4,
   "metadata": {},
   "outputs": [
    {
     "name": "stdout",
     "output_type": "stream",
     "text": [
      "Computing the pearson similarity matrix...\n",
      "Done computing similarity matrix.\n",
      "Computing the pearson similarity matrix...\n",
      "Done computing similarity matrix.\n",
      "Computing the pearson similarity matrix...\n",
      "Done computing similarity matrix.\n",
      "Computing the pearson similarity matrix...\n",
      "Done computing similarity matrix.\n",
      "Computing the pearson similarity matrix...\n",
      "Done computing similarity matrix.\n",
      "Evaluating RMSE of algorithm KNNWithMeans on 5 split(s).\n",
      "\n",
      "                  Fold 1  Fold 2  Fold 3  Fold 4  Fold 5  Mean    Std     \n",
      "RMSE (testset)    0.9169  0.9134  0.9145  0.9170  0.9158  0.9155  0.0014  \n",
      "Fit time          119.55  118.21  119.43  134.11  141.56  126.57  9.51    \n",
      "Test time         127.97  128.63  134.14  166.75  164.48  144.39  17.48   \n"
     ]
    },
    {
     "data": {
      "text/plain": [
       "{'test_rmse': array([0.9169127 , 0.91335579, 0.91451583, 0.91695459, 0.91582258]),\n",
       " 'fit_time': (119.54927587509155,\n",
       "  118.2053575515747,\n",
       "  119.43395185470581,\n",
       "  134.11189150810242,\n",
       "  141.56459140777588),\n",
       " 'test_time': (127.96649050712585,\n",
       "  128.6253719329834,\n",
       "  134.1429455280304,\n",
       "  166.75176095962524,\n",
       "  164.4810028076172)}"
      ]
     },
     "execution_count": 4,
     "metadata": {},
     "output_type": "execute_result"
    }
   ],
   "source": [
    "algo = KNNWithMeans(k=50, sim_options={'name': 'pearson', 'user_based': True})\n",
    "cross_validate(algo, data, measures=['RMSE'], cv=5, verbose=True)"
   ]
  },
  {
   "cell_type": "markdown",
   "metadata": {},
   "source": [
    "KNNWithMeans: rmse > 0.87"
   ]
  },
  {
   "cell_type": "code",
   "execution_count": 5,
   "metadata": {},
   "outputs": [
    {
     "name": "stdout",
     "output_type": "stream",
     "text": [
      "Computing the pearson similarity matrix...\n",
      "Done computing similarity matrix.\n",
      "Computing the pearson similarity matrix...\n",
      "Done computing similarity matrix.\n",
      "Computing the pearson similarity matrix...\n",
      "Done computing similarity matrix.\n",
      "Computing the pearson similarity matrix...\n",
      "Done computing similarity matrix.\n",
      "Computing the pearson similarity matrix...\n",
      "Done computing similarity matrix.\n",
      "Evaluating RMSE of algorithm KNNBasic on 5 split(s).\n",
      "\n",
      "                  Fold 1  Fold 2  Fold 3  Fold 4  Fold 5  Mean    Std     \n",
      "RMSE (testset)    0.9627  0.9591  0.9583  0.9603  0.9600  0.9601  0.0015  \n",
      "Fit time          109.70  109.71  130.92  136.17  135.41  124.38  12.12   \n",
      "Test time         119.79  118.10  140.88  150.31  149.13  135.64  14.03   \n"
     ]
    },
    {
     "data": {
      "text/plain": [
       "{'test_rmse': array([0.96267594, 0.95906703, 0.95833751, 0.96032532, 0.95996548]),\n",
       " 'fit_time': (109.70255041122437,\n",
       "  109.70978307723999,\n",
       "  130.9176845550537,\n",
       "  136.17067742347717,\n",
       "  135.40803241729736),\n",
       " 'test_time': (119.78846669197083,\n",
       "  118.09523224830627,\n",
       "  140.87706327438354,\n",
       "  150.30628776550293,\n",
       "  149.12697887420654)}"
      ]
     },
     "execution_count": 5,
     "metadata": {},
     "output_type": "execute_result"
    }
   ],
   "source": [
    "algo = KNNBasic(k=50, sim_options={'name': 'pearson', 'user_based': True})\n",
    "cross_validate(algo, data, measures=['RMSE'], cv=5, verbose=True)"
   ]
  },
  {
   "cell_type": "markdown",
   "metadata": {},
   "source": [
    "KNNBasic: rmse > 0.87"
   ]
  },
  {
   "cell_type": "code",
   "execution_count": 6,
   "metadata": {},
   "outputs": [
    {
     "name": "stdout",
     "output_type": "stream",
     "text": [
      "Computing the pearson similarity matrix...\n",
      "Done computing similarity matrix.\n",
      "Computing the pearson similarity matrix...\n",
      "Done computing similarity matrix.\n",
      "Computing the pearson similarity matrix...\n",
      "Done computing similarity matrix.\n",
      "Computing the pearson similarity matrix...\n",
      "Done computing similarity matrix.\n",
      "Computing the pearson similarity matrix...\n",
      "Done computing similarity matrix.\n",
      "Evaluating RMSE of algorithm KNNWithZScore on 5 split(s).\n",
      "\n",
      "                  Fold 1  Fold 2  Fold 3  Fold 4  Fold 5  Mean    Std     \n",
      "RMSE (testset)    0.9120  0.9118  0.9128  0.9136  0.9127  0.9126  0.0006  \n",
      "Fit time          141.62  146.01  141.10  155.81  150.13  146.93  5.52    \n",
      "Test time         160.87  173.71  162.96  165.04  168.30  166.18  4.50    \n"
     ]
    },
    {
     "data": {
      "text/plain": [
       "{'test_rmse': array([0.91203653, 0.91182222, 0.91278201, 0.91355329, 0.91274698]),\n",
       " 'fit_time': (141.61827731132507,\n",
       "  146.01031112670898,\n",
       "  141.10181546211243,\n",
       "  155.8139090538025,\n",
       "  150.12741255760193),\n",
       " 'test_time': (160.8695046901703,\n",
       "  173.7112741470337,\n",
       "  162.96370482444763,\n",
       "  165.04283499717712,\n",
       "  168.29837226867676)}"
      ]
     },
     "execution_count": 6,
     "metadata": {},
     "output_type": "execute_result"
    }
   ],
   "source": [
    "algo = KNNWithZScore(k=50, sim_options={'name': 'pearson', 'user_based': True})\n",
    "cross_validate(algo, data, measures=['RMSE'], cv=5, verbose=True)"
   ]
  },
  {
   "cell_type": "markdown",
   "metadata": {},
   "source": [
    "KNNWithZScore: rmse > 0.87"
   ]
  },
  {
   "cell_type": "code",
   "execution_count": 7,
   "metadata": {},
   "outputs": [
    {
     "name": "stdout",
     "output_type": "stream",
     "text": [
      "Estimating biases using als...\n",
      "Computing the pearson similarity matrix...\n",
      "Done computing similarity matrix.\n",
      "Estimating biases using als...\n",
      "Computing the pearson similarity matrix...\n",
      "Done computing similarity matrix.\n",
      "Estimating biases using als...\n",
      "Computing the pearson similarity matrix...\n",
      "Done computing similarity matrix.\n",
      "Estimating biases using als...\n",
      "Computing the pearson similarity matrix...\n",
      "Done computing similarity matrix.\n",
      "Estimating biases using als...\n",
      "Computing the pearson similarity matrix...\n",
      "Done computing similarity matrix.\n",
      "Evaluating RMSE of algorithm KNNBaseline on 5 split(s).\n",
      "\n",
      "                  Fold 1  Fold 2  Fold 3  Fold 4  Fold 5  Mean    Std     \n",
      "RMSE (testset)    0.8937  0.8907  0.8934  0.8929  0.8956  0.8933  0.0016  \n",
      "Fit time          153.19  158.20  156.01  129.67  129.24  145.26  13.00   \n",
      "Test time         173.89  175.50  140.03  143.53  146.21  155.83  15.53   \n"
     ]
    },
    {
     "data": {
      "text/plain": [
       "{'test_rmse': array([0.8937047 , 0.89074991, 0.89343466, 0.89294228, 0.89559634]),\n",
       " 'fit_time': (153.18591332435608,\n",
       "  158.20418000221252,\n",
       "  156.00595879554749,\n",
       "  129.66884636878967,\n",
       "  129.23921871185303),\n",
       " 'test_time': (173.88594388961792,\n",
       "  175.49656343460083,\n",
       "  140.03267741203308,\n",
       "  143.52971148490906,\n",
       "  146.2106626033783)}"
      ]
     },
     "execution_count": 7,
     "metadata": {},
     "output_type": "execute_result"
    }
   ],
   "source": [
    "algo = KNNBaseline(k=50, sim_options={'name': 'pearson', 'user_based': True})\n",
    "cross_validate(algo, data, measures=['RMSE'], cv=5, verbose=True)"
   ]
  },
  {
   "cell_type": "markdown",
   "metadata": {},
   "source": [
    "KNNBaseline: rmse > 0.87"
   ]
  },
  {
   "cell_type": "markdown",
   "metadata": {},
   "source": [
    "Используем KNNBaseline, т.к. наименьший RMSE"
   ]
  },
  {
   "cell_type": "code",
   "execution_count": 8,
   "metadata": {},
   "outputs": [
    {
     "name": "stdout",
     "output_type": "stream",
     "text": [
      "Estimating biases using als...\n",
      "Computing the pearson similarity matrix...\n",
      "Done computing similarity matrix.\n",
      "Estimating biases using als...\n",
      "Computing the pearson similarity matrix...\n",
      "Done computing similarity matrix.\n",
      "Estimating biases using als...\n",
      "Computing the pearson similarity matrix...\n",
      "Done computing similarity matrix.\n",
      "Estimating biases using als...\n",
      "Computing the pearson similarity matrix...\n",
      "Done computing similarity matrix.\n",
      "Estimating biases using als...\n",
      "Computing the pearson similarity matrix...\n",
      "Done computing similarity matrix.\n",
      "Evaluating RMSE of algorithm KNNBaseline on 5 split(s).\n",
      "\n",
      "                  Fold 1  Fold 2  Fold 3  Fold 4  Fold 5  Mean    Std     \n",
      "RMSE (testset)    0.8929  0.8903  0.8942  0.8955  0.8932  0.8932  0.0017  \n",
      "Fit time          138.85  137.82  136.51  135.06  236.02  156.85  39.60   \n",
      "Test time         147.13  142.12  146.75  134.49  224.60  159.02  33.10   \n"
     ]
    },
    {
     "data": {
      "text/plain": [
       "{'test_rmse': array([0.89287585, 0.8903221 , 0.89415511, 0.89547047, 0.89321176]),\n",
       " 'fit_time': (138.85370659828186,\n",
       "  137.81710171699524,\n",
       "  136.50952196121216,\n",
       "  135.0638165473938,\n",
       "  236.02010536193848),\n",
       " 'test_time': (147.1295130252838,\n",
       "  142.11553835868835,\n",
       "  146.74827647209167,\n",
       "  134.48681545257568,\n",
       "  224.5950047969818)}"
      ]
     },
     "execution_count": 8,
     "metadata": {},
     "output_type": "execute_result"
    }
   ],
   "source": [
    "bsl_options = {'method': 'als',\n",
    "               'n_epochs': 20,\n",
    "               'reg_u': 12,\n",
    "               'reg_i': 5\n",
    "               }\n",
    "algo = KNNBaseline(k=50, bsl_options=bsl_options, sim_options={'name': 'pearson', 'user_based': True})\n",
    "cross_validate(algo, data, measures=['RMSE'], cv=5, verbose=True)"
   ]
  },
  {
   "cell_type": "markdown",
   "metadata": {},
   "source": [
    "rmse > 0.87"
   ]
  },
  {
   "cell_type": "code",
   "execution_count": 12,
   "metadata": {},
   "outputs": [
    {
     "name": "stdout",
     "output_type": "stream",
     "text": [
      "Estimating biases using als...\n",
      "Computing the pearson similarity matrix...\n",
      "Done computing similarity matrix.\n",
      "Estimating biases using als...\n",
      "Computing the pearson similarity matrix...\n",
      "Done computing similarity matrix.\n",
      "Estimating biases using als...\n",
      "Computing the pearson similarity matrix...\n",
      "Done computing similarity matrix.\n",
      "Estimating biases using als...\n",
      "Computing the pearson similarity matrix...\n",
      "Done computing similarity matrix.\n",
      "Estimating biases using als...\n",
      "Computing the pearson similarity matrix...\n",
      "Done computing similarity matrix.\n",
      "Evaluating RMSE of algorithm KNNBaseline on 5 split(s).\n",
      "\n",
      "                  Fold 1  Fold 2  Fold 3  Fold 4  Fold 5  Mean    Std     \n",
      "RMSE (testset)    0.8901  0.8948  0.8921  0.8950  0.8944  0.8933  0.0019  \n",
      "Fit time          164.13  165.11  164.33  164.70  167.00  165.05  1.03    \n",
      "Test time         189.77  187.81  189.30  189.22  188.76  188.97  0.66    \n"
     ]
    },
    {
     "data": {
      "text/plain": [
       "{'test_rmse': array([0.89012237, 0.89476486, 0.89211775, 0.89495947, 0.89438334]),\n",
       " 'fit_time': (164.12754893302917,\n",
       "  165.10786509513855,\n",
       "  164.32971215248108,\n",
       "  164.6975269317627,\n",
       "  166.99673914909363),\n",
       " 'test_time': (189.7724153995514,\n",
       "  187.81177711486816,\n",
       "  189.30113458633423,\n",
       "  189.22046971321106,\n",
       "  188.76486730575562)}"
      ]
     },
     "execution_count": 12,
     "metadata": {},
     "output_type": "execute_result"
    }
   ],
   "source": [
    "bsl_options = {'method': 'als',\n",
    "               'n_epochs': 20,\n",
    "               'reg_u': 3,\n",
    "               'reg_i': 2\n",
    "               }\n",
    "algo = KNNBaseline(k=50, bsl_options=bsl_options, sim_options={'name': 'pearson', 'user_based': True})\n",
    "cross_validate(algo, data, measures=['RMSE'], cv=5, verbose=True)"
   ]
  },
  {
   "cell_type": "markdown",
   "metadata": {},
   "source": [
    "rmse > 0.87"
   ]
  },
  {
   "cell_type": "code",
   "execution_count": 13,
   "metadata": {},
   "outputs": [
    {
     "name": "stdout",
     "output_type": "stream",
     "text": [
      "Evaluating RMSE of algorithm KNNBaseline on 5 split(s).\n",
      "\n",
      "                  Fold 1  Fold 2  Fold 3  Fold 4  Fold 5  Mean    Std     \n",
      "RMSE (testset)    0.8699  0.8678  0.8670  0.8695  0.8675  0.8683  0.0011  \n",
      "Fit time          136.25  136.34  130.10  126.90  125.80  131.08  4.49    \n",
      "Test time         181.41  179.70  181.69  180.26  180.53  180.71  0.74    \n"
     ]
    },
    {
     "data": {
      "text/plain": [
       "{'test_rmse': array([0.86985723, 0.86777323, 0.86702661, 0.86952219, 0.86747883]),\n",
       " 'fit_time': (136.2528145313263,\n",
       "  136.33726143836975,\n",
       "  130.09563827514648,\n",
       "  126.89504504203796,\n",
       "  125.7987174987793),\n",
       " 'test_time': (181.407790184021,\n",
       "  179.695130109787,\n",
       "  181.6863145828247,\n",
       "  180.25795316696167,\n",
       "  180.52572751045227)}"
      ]
     },
     "execution_count": 13,
     "metadata": {},
     "output_type": "execute_result"
    }
   ],
   "source": [
    "bsl_options = {'method': 'als', \n",
    "               'n_epochs': 20, \n",
    "               'reg_u': 3, \n",
    "               'reg_i': 2}\n",
    "algo = KNNBaseline(k=50, bsl_options=bsl_options, sim_options={'name': 'pearson_baseline', 'user_based': True})\n",
    "cross_validate(algo, data, n_jobs=-1, measures=['RMSE'], cv=5, verbose=True)"
   ]
  },
  {
   "cell_type": "markdown",
   "metadata": {},
   "source": [
    "rmse < 0.87"
   ]
  },
  {
   "cell_type": "code",
   "execution_count": null,
   "metadata": {},
   "outputs": [],
   "source": []
  }
 ],
 "metadata": {
  "kernelspec": {
   "display_name": "Python 3",
   "language": "python",
   "name": "python3"
  },
  "language_info": {
   "codemirror_mode": {
    "name": "ipython",
    "version": 3
   },
   "file_extension": ".py",
   "mimetype": "text/x-python",
   "name": "python",
   "nbconvert_exporter": "python",
   "pygments_lexer": "ipython3",
   "version": "3.8.5"
  }
 },
 "nbformat": 4,
 "nbformat_minor": 4
}
